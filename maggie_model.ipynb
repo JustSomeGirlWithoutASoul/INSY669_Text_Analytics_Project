{
 "cells": [
  {
   "metadata": {},
   "cell_type": "markdown",
   "source": "# Data Cleaning"
  },
  {
   "metadata": {
    "ExecuteTime": {
     "end_time": "2025-02-08T06:17:06.136810Z",
     "start_time": "2025-02-08T06:17:02.034814Z"
    }
   },
   "cell_type": "code",
   "source": [
    "import pandas as pd\n",
    "import numpy as np\n",
    "from transformers import BertModel, BertTokenizer\n",
    "from datasets import tqdm\n",
    "import torch\n",
    "from torch.utils.data import TensorDataset, DataLoader"
   ],
   "outputs": [],
   "execution_count": 1
  },
  {
   "metadata": {
    "ExecuteTime": {
     "end_time": "2025-02-08T06:17:06.212249Z",
     "start_time": "2025-02-08T06:17:06.152710Z"
    }
   },
   "cell_type": "code",
   "source": [
    "path = 'reddit_mental_health.csv'\n",
    "\n",
    "# data overview\n",
    "df = pd.read_csv(path)\n",
    "df"
   ],
   "outputs": [
    {
     "data": {
      "text/plain": [
       "      Unnamed: 0                                               text  \\\n",
       "0              0  Welcome to /r/depression's check-in post - a p...   \n",
       "1              1  We understand that most people who reply immed...   \n",
       "2              2  Anyone else just miss physical touch? I crave ...   \n",
       "3              3  I’m just so ashamed. Everyone and everything f...   \n",
       "4              4  I really need a friend. I don't even have a si...   \n",
       "...          ...                                                ...   \n",
       "5952        1183  I’ve (24M) dealt with depression/anxiety for y...   \n",
       "5953        1184   \"I don't feel very good, it's like I don't be...   \n",
       "5954        1185  I can't sleep most of the nights, meds didn't ...   \n",
       "5955        1186  Hi, all. I have to give a presentation at work...   \n",
       "5956        1187  It's not about being scared I didn't lock the ...   \n",
       "\n",
       "                                                  title  target  \n",
       "0     Regular check-in post, with information about ...       1  \n",
       "1     Our most-broken and least-understood rules is ...       1  \n",
       "2     I haven’t been touched, or even hugged, in so ...       1  \n",
       "3                       Being Depressed is Embarrassing       1  \n",
       "4     I'm desperate for a friend and to feel loved b...       1  \n",
       "...                                                 ...     ...  \n",
       "5952                          Nobody takes me seriously       4  \n",
       "5953                                        selfishness       4  \n",
       "5954                  Is there any way to sleep better?       4  \n",
       "5955                              Public speaking tips?       4  \n",
       "5956                    I have really bad door anxiety!       4  \n",
       "\n",
       "[5957 rows x 4 columns]"
      ],
      "text/html": [
       "<div>\n",
       "<style scoped>\n",
       "    .dataframe tbody tr th:only-of-type {\n",
       "        vertical-align: middle;\n",
       "    }\n",
       "\n",
       "    .dataframe tbody tr th {\n",
       "        vertical-align: top;\n",
       "    }\n",
       "\n",
       "    .dataframe thead th {\n",
       "        text-align: right;\n",
       "    }\n",
       "</style>\n",
       "<table border=\"1\" class=\"dataframe\">\n",
       "  <thead>\n",
       "    <tr style=\"text-align: right;\">\n",
       "      <th></th>\n",
       "      <th>Unnamed: 0</th>\n",
       "      <th>text</th>\n",
       "      <th>title</th>\n",
       "      <th>target</th>\n",
       "    </tr>\n",
       "  </thead>\n",
       "  <tbody>\n",
       "    <tr>\n",
       "      <th>0</th>\n",
       "      <td>0</td>\n",
       "      <td>Welcome to /r/depression's check-in post - a p...</td>\n",
       "      <td>Regular check-in post, with information about ...</td>\n",
       "      <td>1</td>\n",
       "    </tr>\n",
       "    <tr>\n",
       "      <th>1</th>\n",
       "      <td>1</td>\n",
       "      <td>We understand that most people who reply immed...</td>\n",
       "      <td>Our most-broken and least-understood rules is ...</td>\n",
       "      <td>1</td>\n",
       "    </tr>\n",
       "    <tr>\n",
       "      <th>2</th>\n",
       "      <td>2</td>\n",
       "      <td>Anyone else just miss physical touch? I crave ...</td>\n",
       "      <td>I haven’t been touched, or even hugged, in so ...</td>\n",
       "      <td>1</td>\n",
       "    </tr>\n",
       "    <tr>\n",
       "      <th>3</th>\n",
       "      <td>3</td>\n",
       "      <td>I’m just so ashamed. Everyone and everything f...</td>\n",
       "      <td>Being Depressed is Embarrassing</td>\n",
       "      <td>1</td>\n",
       "    </tr>\n",
       "    <tr>\n",
       "      <th>4</th>\n",
       "      <td>4</td>\n",
       "      <td>I really need a friend. I don't even have a si...</td>\n",
       "      <td>I'm desperate for a friend and to feel loved b...</td>\n",
       "      <td>1</td>\n",
       "    </tr>\n",
       "    <tr>\n",
       "      <th>...</th>\n",
       "      <td>...</td>\n",
       "      <td>...</td>\n",
       "      <td>...</td>\n",
       "      <td>...</td>\n",
       "    </tr>\n",
       "    <tr>\n",
       "      <th>5952</th>\n",
       "      <td>1183</td>\n",
       "      <td>I’ve (24M) dealt with depression/anxiety for y...</td>\n",
       "      <td>Nobody takes me seriously</td>\n",
       "      <td>4</td>\n",
       "    </tr>\n",
       "    <tr>\n",
       "      <th>5953</th>\n",
       "      <td>1184</td>\n",
       "      <td>\"I don't feel very good, it's like I don't be...</td>\n",
       "      <td>selfishness</td>\n",
       "      <td>4</td>\n",
       "    </tr>\n",
       "    <tr>\n",
       "      <th>5954</th>\n",
       "      <td>1185</td>\n",
       "      <td>I can't sleep most of the nights, meds didn't ...</td>\n",
       "      <td>Is there any way to sleep better?</td>\n",
       "      <td>4</td>\n",
       "    </tr>\n",
       "    <tr>\n",
       "      <th>5955</th>\n",
       "      <td>1186</td>\n",
       "      <td>Hi, all. I have to give a presentation at work...</td>\n",
       "      <td>Public speaking tips?</td>\n",
       "      <td>4</td>\n",
       "    </tr>\n",
       "    <tr>\n",
       "      <th>5956</th>\n",
       "      <td>1187</td>\n",
       "      <td>It's not about being scared I didn't lock the ...</td>\n",
       "      <td>I have really bad door anxiety!</td>\n",
       "      <td>4</td>\n",
       "    </tr>\n",
       "  </tbody>\n",
       "</table>\n",
       "<p>5957 rows × 4 columns</p>\n",
       "</div>"
      ]
     },
     "execution_count": 2,
     "metadata": {},
     "output_type": "execute_result"
    }
   ],
   "execution_count": 2
  },
  {
   "metadata": {
    "ExecuteTime": {
     "end_time": "2025-02-08T06:17:06.391029Z",
     "start_time": "2025-02-08T06:17:06.383974Z"
    }
   },
   "cell_type": "code",
   "source": [
    "# drop the rows with missing values\n",
    "df1 = df.dropna()\n",
    "df1"
   ],
   "outputs": [
    {
     "data": {
      "text/plain": [
       "      Unnamed: 0                                               text  \\\n",
       "0              0  Welcome to /r/depression's check-in post - a p...   \n",
       "1              1  We understand that most people who reply immed...   \n",
       "2              2  Anyone else just miss physical touch? I crave ...   \n",
       "3              3  I’m just so ashamed. Everyone and everything f...   \n",
       "4              4  I really need a friend. I don't even have a si...   \n",
       "...          ...                                                ...   \n",
       "5952        1183  I’ve (24M) dealt with depression/anxiety for y...   \n",
       "5953        1184   \"I don't feel very good, it's like I don't be...   \n",
       "5954        1185  I can't sleep most of the nights, meds didn't ...   \n",
       "5955        1186  Hi, all. I have to give a presentation at work...   \n",
       "5956        1187  It's not about being scared I didn't lock the ...   \n",
       "\n",
       "                                                  title  target  \n",
       "0     Regular check-in post, with information about ...       1  \n",
       "1     Our most-broken and least-understood rules is ...       1  \n",
       "2     I haven’t been touched, or even hugged, in so ...       1  \n",
       "3                       Being Depressed is Embarrassing       1  \n",
       "4     I'm desperate for a friend and to feel loved b...       1  \n",
       "...                                                 ...     ...  \n",
       "5952                          Nobody takes me seriously       4  \n",
       "5953                                        selfishness       4  \n",
       "5954                  Is there any way to sleep better?       4  \n",
       "5955                              Public speaking tips?       4  \n",
       "5956                    I have really bad door anxiety!       4  \n",
       "\n",
       "[5607 rows x 4 columns]"
      ],
      "text/html": [
       "<div>\n",
       "<style scoped>\n",
       "    .dataframe tbody tr th:only-of-type {\n",
       "        vertical-align: middle;\n",
       "    }\n",
       "\n",
       "    .dataframe tbody tr th {\n",
       "        vertical-align: top;\n",
       "    }\n",
       "\n",
       "    .dataframe thead th {\n",
       "        text-align: right;\n",
       "    }\n",
       "</style>\n",
       "<table border=\"1\" class=\"dataframe\">\n",
       "  <thead>\n",
       "    <tr style=\"text-align: right;\">\n",
       "      <th></th>\n",
       "      <th>Unnamed: 0</th>\n",
       "      <th>text</th>\n",
       "      <th>title</th>\n",
       "      <th>target</th>\n",
       "    </tr>\n",
       "  </thead>\n",
       "  <tbody>\n",
       "    <tr>\n",
       "      <th>0</th>\n",
       "      <td>0</td>\n",
       "      <td>Welcome to /r/depression's check-in post - a p...</td>\n",
       "      <td>Regular check-in post, with information about ...</td>\n",
       "      <td>1</td>\n",
       "    </tr>\n",
       "    <tr>\n",
       "      <th>1</th>\n",
       "      <td>1</td>\n",
       "      <td>We understand that most people who reply immed...</td>\n",
       "      <td>Our most-broken and least-understood rules is ...</td>\n",
       "      <td>1</td>\n",
       "    </tr>\n",
       "    <tr>\n",
       "      <th>2</th>\n",
       "      <td>2</td>\n",
       "      <td>Anyone else just miss physical touch? I crave ...</td>\n",
       "      <td>I haven’t been touched, or even hugged, in so ...</td>\n",
       "      <td>1</td>\n",
       "    </tr>\n",
       "    <tr>\n",
       "      <th>3</th>\n",
       "      <td>3</td>\n",
       "      <td>I’m just so ashamed. Everyone and everything f...</td>\n",
       "      <td>Being Depressed is Embarrassing</td>\n",
       "      <td>1</td>\n",
       "    </tr>\n",
       "    <tr>\n",
       "      <th>4</th>\n",
       "      <td>4</td>\n",
       "      <td>I really need a friend. I don't even have a si...</td>\n",
       "      <td>I'm desperate for a friend and to feel loved b...</td>\n",
       "      <td>1</td>\n",
       "    </tr>\n",
       "    <tr>\n",
       "      <th>...</th>\n",
       "      <td>...</td>\n",
       "      <td>...</td>\n",
       "      <td>...</td>\n",
       "      <td>...</td>\n",
       "    </tr>\n",
       "    <tr>\n",
       "      <th>5952</th>\n",
       "      <td>1183</td>\n",
       "      <td>I’ve (24M) dealt with depression/anxiety for y...</td>\n",
       "      <td>Nobody takes me seriously</td>\n",
       "      <td>4</td>\n",
       "    </tr>\n",
       "    <tr>\n",
       "      <th>5953</th>\n",
       "      <td>1184</td>\n",
       "      <td>\"I don't feel very good, it's like I don't be...</td>\n",
       "      <td>selfishness</td>\n",
       "      <td>4</td>\n",
       "    </tr>\n",
       "    <tr>\n",
       "      <th>5954</th>\n",
       "      <td>1185</td>\n",
       "      <td>I can't sleep most of the nights, meds didn't ...</td>\n",
       "      <td>Is there any way to sleep better?</td>\n",
       "      <td>4</td>\n",
       "    </tr>\n",
       "    <tr>\n",
       "      <th>5955</th>\n",
       "      <td>1186</td>\n",
       "      <td>Hi, all. I have to give a presentation at work...</td>\n",
       "      <td>Public speaking tips?</td>\n",
       "      <td>4</td>\n",
       "    </tr>\n",
       "    <tr>\n",
       "      <th>5956</th>\n",
       "      <td>1187</td>\n",
       "      <td>It's not about being scared I didn't lock the ...</td>\n",
       "      <td>I have really bad door anxiety!</td>\n",
       "      <td>4</td>\n",
       "    </tr>\n",
       "  </tbody>\n",
       "</table>\n",
       "<p>5607 rows × 4 columns</p>\n",
       "</div>"
      ]
     },
     "execution_count": 3,
     "metadata": {},
     "output_type": "execute_result"
    }
   ],
   "execution_count": 3
  },
  {
   "metadata": {
    "ExecuteTime": {
     "end_time": "2025-02-08T06:17:06.511932Z",
     "start_time": "2025-02-08T06:17:06.505228Z"
    }
   },
   "cell_type": "code",
   "source": [
    "# drop the 'row number' column since it's just an identifier\n",
    "df2 = df1.drop(df1.columns[0], axis=1)\n",
    "df2\n",
    "\n",
    "# also note that we have a pretty balanced dataset!"
   ],
   "outputs": [
    {
     "data": {
      "text/plain": [
       "                                                   text  \\\n",
       "0     Welcome to /r/depression's check-in post - a p...   \n",
       "1     We understand that most people who reply immed...   \n",
       "2     Anyone else just miss physical touch? I crave ...   \n",
       "3     I’m just so ashamed. Everyone and everything f...   \n",
       "4     I really need a friend. I don't even have a si...   \n",
       "...                                                 ...   \n",
       "5952  I’ve (24M) dealt with depression/anxiety for y...   \n",
       "5953   \"I don't feel very good, it's like I don't be...   \n",
       "5954  I can't sleep most of the nights, meds didn't ...   \n",
       "5955  Hi, all. I have to give a presentation at work...   \n",
       "5956  It's not about being scared I didn't lock the ...   \n",
       "\n",
       "                                                  title  target  \n",
       "0     Regular check-in post, with information about ...       1  \n",
       "1     Our most-broken and least-understood rules is ...       1  \n",
       "2     I haven’t been touched, or even hugged, in so ...       1  \n",
       "3                       Being Depressed is Embarrassing       1  \n",
       "4     I'm desperate for a friend and to feel loved b...       1  \n",
       "...                                                 ...     ...  \n",
       "5952                          Nobody takes me seriously       4  \n",
       "5953                                        selfishness       4  \n",
       "5954                  Is there any way to sleep better?       4  \n",
       "5955                              Public speaking tips?       4  \n",
       "5956                    I have really bad door anxiety!       4  \n",
       "\n",
       "[5607 rows x 3 columns]"
      ],
      "text/html": [
       "<div>\n",
       "<style scoped>\n",
       "    .dataframe tbody tr th:only-of-type {\n",
       "        vertical-align: middle;\n",
       "    }\n",
       "\n",
       "    .dataframe tbody tr th {\n",
       "        vertical-align: top;\n",
       "    }\n",
       "\n",
       "    .dataframe thead th {\n",
       "        text-align: right;\n",
       "    }\n",
       "</style>\n",
       "<table border=\"1\" class=\"dataframe\">\n",
       "  <thead>\n",
       "    <tr style=\"text-align: right;\">\n",
       "      <th></th>\n",
       "      <th>text</th>\n",
       "      <th>title</th>\n",
       "      <th>target</th>\n",
       "    </tr>\n",
       "  </thead>\n",
       "  <tbody>\n",
       "    <tr>\n",
       "      <th>0</th>\n",
       "      <td>Welcome to /r/depression's check-in post - a p...</td>\n",
       "      <td>Regular check-in post, with information about ...</td>\n",
       "      <td>1</td>\n",
       "    </tr>\n",
       "    <tr>\n",
       "      <th>1</th>\n",
       "      <td>We understand that most people who reply immed...</td>\n",
       "      <td>Our most-broken and least-understood rules is ...</td>\n",
       "      <td>1</td>\n",
       "    </tr>\n",
       "    <tr>\n",
       "      <th>2</th>\n",
       "      <td>Anyone else just miss physical touch? I crave ...</td>\n",
       "      <td>I haven’t been touched, or even hugged, in so ...</td>\n",
       "      <td>1</td>\n",
       "    </tr>\n",
       "    <tr>\n",
       "      <th>3</th>\n",
       "      <td>I’m just so ashamed. Everyone and everything f...</td>\n",
       "      <td>Being Depressed is Embarrassing</td>\n",
       "      <td>1</td>\n",
       "    </tr>\n",
       "    <tr>\n",
       "      <th>4</th>\n",
       "      <td>I really need a friend. I don't even have a si...</td>\n",
       "      <td>I'm desperate for a friend and to feel loved b...</td>\n",
       "      <td>1</td>\n",
       "    </tr>\n",
       "    <tr>\n",
       "      <th>...</th>\n",
       "      <td>...</td>\n",
       "      <td>...</td>\n",
       "      <td>...</td>\n",
       "    </tr>\n",
       "    <tr>\n",
       "      <th>5952</th>\n",
       "      <td>I’ve (24M) dealt with depression/anxiety for y...</td>\n",
       "      <td>Nobody takes me seriously</td>\n",
       "      <td>4</td>\n",
       "    </tr>\n",
       "    <tr>\n",
       "      <th>5953</th>\n",
       "      <td>\"I don't feel very good, it's like I don't be...</td>\n",
       "      <td>selfishness</td>\n",
       "      <td>4</td>\n",
       "    </tr>\n",
       "    <tr>\n",
       "      <th>5954</th>\n",
       "      <td>I can't sleep most of the nights, meds didn't ...</td>\n",
       "      <td>Is there any way to sleep better?</td>\n",
       "      <td>4</td>\n",
       "    </tr>\n",
       "    <tr>\n",
       "      <th>5955</th>\n",
       "      <td>Hi, all. I have to give a presentation at work...</td>\n",
       "      <td>Public speaking tips?</td>\n",
       "      <td>4</td>\n",
       "    </tr>\n",
       "    <tr>\n",
       "      <th>5956</th>\n",
       "      <td>It's not about being scared I didn't lock the ...</td>\n",
       "      <td>I have really bad door anxiety!</td>\n",
       "      <td>4</td>\n",
       "    </tr>\n",
       "  </tbody>\n",
       "</table>\n",
       "<p>5607 rows × 3 columns</p>\n",
       "</div>"
      ]
     },
     "execution_count": 4,
     "metadata": {},
     "output_type": "execute_result"
    }
   ],
   "execution_count": 4
  },
  {
   "metadata": {
    "ExecuteTime": {
     "end_time": "2025-02-08T06:17:06.703904Z",
     "start_time": "2025-02-08T06:17:06.693561Z"
    }
   },
   "cell_type": "code",
   "source": [
    "# check if the datatypes are correct\n",
    "df2.info()"
   ],
   "outputs": [
    {
     "name": "stdout",
     "output_type": "stream",
     "text": [
      "<class 'pandas.core.frame.DataFrame'>\n",
      "Index: 5607 entries, 0 to 5956\n",
      "Data columns (total 3 columns):\n",
      " #   Column  Non-Null Count  Dtype \n",
      "---  ------  --------------  ----- \n",
      " 0   text    5607 non-null   object\n",
      " 1   title   5607 non-null   object\n",
      " 2   target  5607 non-null   int64 \n",
      "dtypes: int64(1), object(2)\n",
      "memory usage: 175.2+ KB\n"
     ]
    }
   ],
   "execution_count": 5
  },
  {
   "metadata": {
    "ExecuteTime": {
     "end_time": "2025-02-08T06:17:06.832250Z",
     "start_time": "2025-02-08T06:17:06.826890Z"
    }
   },
   "cell_type": "code",
   "source": [
    "# change \"title\" and \"text\" columns to string datatype\n",
    "df3 = df2.copy()\n",
    "df3[\"title\"] = df2[\"title\"].astype(\"string\")\n",
    "df3[\"text\"] = df2[\"text\"].astype(\"string\")\n",
    "\n",
    "df3.info()"
   ],
   "outputs": [
    {
     "name": "stdout",
     "output_type": "stream",
     "text": [
      "<class 'pandas.core.frame.DataFrame'>\n",
      "Index: 5607 entries, 0 to 5956\n",
      "Data columns (total 3 columns):\n",
      " #   Column  Non-Null Count  Dtype \n",
      "---  ------  --------------  ----- \n",
      " 0   text    5607 non-null   string\n",
      " 1   title   5607 non-null   string\n",
      " 2   target  5607 non-null   int64 \n",
      "dtypes: int64(1), string(2)\n",
      "memory usage: 175.2 KB\n"
     ]
    }
   ],
   "execution_count": 6
  },
  {
   "metadata": {
    "ExecuteTime": {
     "end_time": "2025-02-08T06:17:07.015821Z",
     "start_time": "2025-02-08T06:17:07.004350Z"
    }
   },
   "cell_type": "code",
   "source": [
    "# combine \"title\" and \"text\" into one column called \"combined_text\"\n",
    "df4 = df3.copy()\n",
    "df4[\"combined_text\"] = df3[\"title\"] + \" \" + df3[\"text\"]\n",
    "df4.drop(columns=[\"title\", \"text\"], inplace=True)\n",
    "df4"
   ],
   "outputs": [
    {
     "data": {
      "text/plain": [
       "      target                                      combined_text\n",
       "0          1  Regular check-in post, with information about ...\n",
       "1          1  Our most-broken and least-understood rules is ...\n",
       "2          1  I haven’t been touched, or even hugged, in so ...\n",
       "3          1  Being Depressed is Embarrassing I’m just so as...\n",
       "4          1  I'm desperate for a friend and to feel loved b...\n",
       "...      ...                                                ...\n",
       "5952       4  Nobody takes me seriously I’ve (24M) dealt wit...\n",
       "5953       4  selfishness  \"I don't feel very good, it's lik...\n",
       "5954       4  Is there any way to sleep better? I can't slee...\n",
       "5955       4  Public speaking tips? Hi, all. I have to give ...\n",
       "5956       4  I have really bad door anxiety! It's not about...\n",
       "\n",
       "[5607 rows x 2 columns]"
      ],
      "text/html": [
       "<div>\n",
       "<style scoped>\n",
       "    .dataframe tbody tr th:only-of-type {\n",
       "        vertical-align: middle;\n",
       "    }\n",
       "\n",
       "    .dataframe tbody tr th {\n",
       "        vertical-align: top;\n",
       "    }\n",
       "\n",
       "    .dataframe thead th {\n",
       "        text-align: right;\n",
       "    }\n",
       "</style>\n",
       "<table border=\"1\" class=\"dataframe\">\n",
       "  <thead>\n",
       "    <tr style=\"text-align: right;\">\n",
       "      <th></th>\n",
       "      <th>target</th>\n",
       "      <th>combined_text</th>\n",
       "    </tr>\n",
       "  </thead>\n",
       "  <tbody>\n",
       "    <tr>\n",
       "      <th>0</th>\n",
       "      <td>1</td>\n",
       "      <td>Regular check-in post, with information about ...</td>\n",
       "    </tr>\n",
       "    <tr>\n",
       "      <th>1</th>\n",
       "      <td>1</td>\n",
       "      <td>Our most-broken and least-understood rules is ...</td>\n",
       "    </tr>\n",
       "    <tr>\n",
       "      <th>2</th>\n",
       "      <td>1</td>\n",
       "      <td>I haven’t been touched, or even hugged, in so ...</td>\n",
       "    </tr>\n",
       "    <tr>\n",
       "      <th>3</th>\n",
       "      <td>1</td>\n",
       "      <td>Being Depressed is Embarrassing I’m just so as...</td>\n",
       "    </tr>\n",
       "    <tr>\n",
       "      <th>4</th>\n",
       "      <td>1</td>\n",
       "      <td>I'm desperate for a friend and to feel loved b...</td>\n",
       "    </tr>\n",
       "    <tr>\n",
       "      <th>...</th>\n",
       "      <td>...</td>\n",
       "      <td>...</td>\n",
       "    </tr>\n",
       "    <tr>\n",
       "      <th>5952</th>\n",
       "      <td>4</td>\n",
       "      <td>Nobody takes me seriously I’ve (24M) dealt wit...</td>\n",
       "    </tr>\n",
       "    <tr>\n",
       "      <th>5953</th>\n",
       "      <td>4</td>\n",
       "      <td>selfishness  \"I don't feel very good, it's lik...</td>\n",
       "    </tr>\n",
       "    <tr>\n",
       "      <th>5954</th>\n",
       "      <td>4</td>\n",
       "      <td>Is there any way to sleep better? I can't slee...</td>\n",
       "    </tr>\n",
       "    <tr>\n",
       "      <th>5955</th>\n",
       "      <td>4</td>\n",
       "      <td>Public speaking tips? Hi, all. I have to give ...</td>\n",
       "    </tr>\n",
       "    <tr>\n",
       "      <th>5956</th>\n",
       "      <td>4</td>\n",
       "      <td>I have really bad door anxiety! It's not about...</td>\n",
       "    </tr>\n",
       "  </tbody>\n",
       "</table>\n",
       "<p>5607 rows × 2 columns</p>\n",
       "</div>"
      ]
     },
     "execution_count": 7,
     "metadata": {},
     "output_type": "execute_result"
    }
   ],
   "execution_count": 7
  },
  {
   "metadata": {},
   "cell_type": "markdown",
   "source": "# BERT Embeddings"
  },
  {
   "metadata": {
    "ExecuteTime": {
     "end_time": "2025-02-08T06:17:07.503668Z",
     "start_time": "2025-02-08T06:17:07.141489Z"
    }
   },
   "cell_type": "code",
   "source": [
    "# Load the pre-trained BERT tokenizer and model.\n",
    "# We use BertModel (without a classification head) for feature extraction.\n",
    "tokenizer = BertTokenizer.from_pretrained('bert-base-uncased')\n",
    "model = BertModel.from_pretrained('bert-base-uncased')\n",
    "model.eval()  # Set the model to evaluation mode to ensure that dropout and other training-specific layers are deactivated"
   ],
   "outputs": [
    {
     "data": {
      "text/plain": [
       "BertModel(\n",
       "  (embeddings): BertEmbeddings(\n",
       "    (word_embeddings): Embedding(30522, 768, padding_idx=0)\n",
       "    (position_embeddings): Embedding(512, 768)\n",
       "    (token_type_embeddings): Embedding(2, 768)\n",
       "    (LayerNorm): LayerNorm((768,), eps=1e-12, elementwise_affine=True)\n",
       "    (dropout): Dropout(p=0.1, inplace=False)\n",
       "  )\n",
       "  (encoder): BertEncoder(\n",
       "    (layer): ModuleList(\n",
       "      (0-11): 12 x BertLayer(\n",
       "        (attention): BertAttention(\n",
       "          (self): BertSdpaSelfAttention(\n",
       "            (query): Linear(in_features=768, out_features=768, bias=True)\n",
       "            (key): Linear(in_features=768, out_features=768, bias=True)\n",
       "            (value): Linear(in_features=768, out_features=768, bias=True)\n",
       "            (dropout): Dropout(p=0.1, inplace=False)\n",
       "          )\n",
       "          (output): BertSelfOutput(\n",
       "            (dense): Linear(in_features=768, out_features=768, bias=True)\n",
       "            (LayerNorm): LayerNorm((768,), eps=1e-12, elementwise_affine=True)\n",
       "            (dropout): Dropout(p=0.1, inplace=False)\n",
       "          )\n",
       "        )\n",
       "        (intermediate): BertIntermediate(\n",
       "          (dense): Linear(in_features=768, out_features=3072, bias=True)\n",
       "          (intermediate_act_fn): GELUActivation()\n",
       "        )\n",
       "        (output): BertOutput(\n",
       "          (dense): Linear(in_features=3072, out_features=768, bias=True)\n",
       "          (LayerNorm): LayerNorm((768,), eps=1e-12, elementwise_affine=True)\n",
       "          (dropout): Dropout(p=0.1, inplace=False)\n",
       "        )\n",
       "      )\n",
       "    )\n",
       "  )\n",
       "  (pooler): BertPooler(\n",
       "    (dense): Linear(in_features=768, out_features=768, bias=True)\n",
       "    (activation): Tanh()\n",
       "  )\n",
       ")"
      ]
     },
     "execution_count": 8,
     "metadata": {},
     "output_type": "execute_result"
    }
   ],
   "execution_count": 8
  },
  {
   "metadata": {
    "ExecuteTime": {
     "end_time": "2025-02-08T06:17:16.727772Z",
     "start_time": "2025-02-08T06:17:07.622394Z"
    }
   },
   "cell_type": "code",
   "source": [
    "# Parameters for tokenization\n",
    "max_length = 256  # Adjust as needed\n",
    "batch_size = 8   # Adjust batch size based on your hardware\n",
    "\n",
    "# Tokenize all texts\n",
    "texts = df4[\"combined_text\"].tolist()\n",
    "labels = df4[\"target\"].tolist()\n",
    "\n",
    "# Tokenize with padding and truncation. Setting return_tensors=\"pt\" to get PyTorch tensors.\n",
    "encoded_inputs = tokenizer(texts,\n",
    "                           padding=True,\n",
    "                           truncation=True,\n",
    "                           max_length=max_length,\n",
    "                           return_tensors='pt')"
   ],
   "outputs": [],
   "execution_count": 9
  },
  {
   "metadata": {
    "ExecuteTime": {
     "end_time": "2025-02-08T06:22:43.522024Z",
     "start_time": "2025-02-08T06:17:16.745104Z"
    }
   },
   "cell_type": "code",
   "source": [
    "# Create a PyTorch dataset and DataLoader for batching.\n",
    "dataset = TensorDataset(encoded_inputs['input_ids'],\n",
    "                        encoded_inputs['attention_mask'],\n",
    "                        torch.tensor(labels))\n",
    "dataloader = DataLoader(dataset, batch_size=batch_size)\n",
    "\n",
    "# Initialize a list to hold embeddings and corresponding labels.\n",
    "all_embeddings = []\n",
    "all_labels = []\n",
    "\n",
    "# Disable gradient calculation for inference.\n",
    "with torch.no_grad():\n",
    "    for batch in tqdm(dataloader, desc=\"Generating BERT Embeddings\"):\n",
    "        input_ids, attention_mask, batch_labels = batch\n",
    "\n",
    "        # Get model outputs. outputs.last_hidden_state has shape (batch_size, sequence_length, hidden_size)\n",
    "        outputs = model(input_ids=input_ids, attention_mask=attention_mask)\n",
    "\n",
    "        # Extract the embedding corresponding to the [CLS] token (first token)\n",
    "        cls_embeddings = outputs.last_hidden_state[:, 0, :]  # shape: (batch_size, hidden_size)\n",
    "\n",
    "        # Append to our list (move to CPU and convert to numpy array)\n",
    "        all_embeddings.append(cls_embeddings.cpu().numpy())\n",
    "        all_labels.extend(batch_labels.cpu().numpy())\n",
    "\n",
    "# Stack all embeddings into a single NumPy array.\n",
    "X = np.vstack(all_embeddings)  # Shape: (num_samples, hidden_size)\n",
    "y = np.array(all_labels)\n"
   ],
   "outputs": [
    {
     "data": {
      "text/plain": [
       "Generating BERT Embeddings:   0%|          | 0/351 [00:00<?, ?it/s]"
      ],
      "application/vnd.jupyter.widget-view+json": {
       "version_major": 2,
       "version_minor": 0,
       "model_id": "8283d32160a84cd8ba586e3220ff2b96"
      }
     },
     "metadata": {},
     "output_type": "display_data"
    }
   ],
   "execution_count": 10
  },
  {
   "metadata": {
    "ExecuteTime": {
     "end_time": "2025-02-08T06:22:43.664491Z",
     "start_time": "2025-02-08T06:22:43.657397Z"
    }
   },
   "cell_type": "code",
   "source": [
    "# make sure X has the right shape\n",
    "X.shape"
   ],
   "outputs": [
    {
     "data": {
      "text/plain": [
       "(5607, 768)"
      ]
     },
     "execution_count": 11,
     "metadata": {},
     "output_type": "execute_result"
    }
   ],
   "execution_count": 11
  },
  {
   "metadata": {
    "ExecuteTime": {
     "end_time": "2025-02-08T06:22:43.731226Z",
     "start_time": "2025-02-08T06:22:43.728801Z"
    }
   },
   "cell_type": "code",
   "source": [
    "# make sure y has the right shape\n",
    "y.shape"
   ],
   "outputs": [
    {
     "data": {
      "text/plain": [
       "(5607,)"
      ]
     },
     "execution_count": 12,
     "metadata": {},
     "output_type": "execute_result"
    }
   ],
   "execution_count": 12
  },
  {
   "metadata": {},
   "cell_type": "markdown",
   "source": "# Classifier"
  },
  {
   "metadata": {},
   "cell_type": "markdown",
   "source": "## JUST AN LOGISTIC REGRESSION EXAMPLE - MAGGIE"
  },
  {
   "metadata": {
    "ExecuteTime": {
     "end_time": "2025-02-08T06:22:52.025109Z",
     "start_time": "2025-02-08T06:22:43.796697Z"
    }
   },
   "cell_type": "code",
   "source": [
    "from sklearn.metrics import accuracy_score\n",
    "from sklearn.linear_model import LogisticRegression\n",
    "from sklearn.model_selection import train_test_split\n",
    "\n",
    "# Split the dataset into training and testing sets\n",
    "X_train, X_test, y_train, y_test = train_test_split(X, y, test_size=0.2, random_state=42)\n",
    "\n",
    "# Use a logistic regression classifier (or choose any other classifier)\n",
    "classifier = LogisticRegression(max_iter=1000)\n",
    "classifier.fit(X_train, y_train)\n",
    "\n",
    "# Predict on the test set\n",
    "y_pred = classifier.predict(X_test)\n",
    "\n",
    "# Evaluate the classifier\n",
    "accuracy = accuracy_score(y_test, y_pred)\n",
    "print(\"Test Accuracy:\", accuracy)"
   ],
   "outputs": [
    {
     "name": "stdout",
     "output_type": "stream",
     "text": [
      "Test Accuracy: 0.64349376114082\n"
     ]
    }
   ],
   "execution_count": 13
  }
 ],
 "metadata": {
  "language_info": {
   "name": "python"
  },
  "kernelspec": {
   "name": "python3",
   "language": "python",
   "display_name": "Python 3 (ipykernel)"
  }
 },
 "nbformat": 4,
 "nbformat_minor": 2
}
